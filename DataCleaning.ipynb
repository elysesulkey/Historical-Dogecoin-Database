{
 "cells": [
  {
   "cell_type": "code",
   "execution_count": 72,
   "metadata": {},
   "outputs": [],
   "source": [
    "import pandas as pd\n",
    "import numpy as np\n",
    "import datetime"
   ]
  },
  {
   "cell_type": "code",
   "execution_count": 75,
   "metadata": {},
   "outputs": [],
   "source": [
    "# import csv\n",
    "raw_data1 = \"Resources/Raw Data/dogecoin.csv\"\n",
    "raw_data1_df = pd.read_csv(raw_data1)\n",
    "\n",
    "# drop rows with missing values\n",
    "raw_data1_df.dropna(how='any')\n",
    "\n",
    "# Convert data types\n",
    "raw_data1_df[\"Date\"] = pd.to_datetime(raw_data1_df[\"Date\"])\n",
    "raw_data1_df[\"Date\"] = raw_data1_df[\"Date\"].dt.strftime('%Y-%m-%d')\n",
    "raw_data1_df[\"Open\"] = raw_data1_df[\"Open\"].astype(float)\n",
    "raw_data1_df[\"High\"] = raw_data1_df[\"High\"].astype(float)\n",
    "raw_data1_df[\"Low\"] = raw_data1_df[\"Low\"].astype(float)\n",
    "raw_data1_df[\"Close\"] = raw_data1_df[\"Close\"].astype(float)\n",
    "raw_data1_df[\"Volume\"] = raw_data1_df[\"Volume\"].astype(int)\n",
    "raw_data1_df[\"Market Cap\"] = raw_data1_df[\"Market Cap\"].astype(int)\n",
    "\n",
    "# format numbers\n",
    "raw_data1_df[\"Open\"] = raw_data1_df[\"Open\"].map(\"{:,.6f}\".format)\n",
    "raw_data1_df[\"High\"] = raw_data1_df[\"High\"].map(\"{:,.6f}\".format)\n",
    "raw_data1_df[\"Low\"] = raw_data1_df[\"Low\"].map(\"{:,.6f}\".format)\n",
    "raw_data1_df[\"Close\"] = raw_data1_df[\"Close\"].map(\"{:,.6f}\".format)\n",
    "\n",
    "# sort by date\n",
    "raw_data1_df.sort_values(by=[\"Date\"], inplace=True, ascending=False)\n",
    "\n",
    "#export cleaned dataframe\n",
    "raw_data1_df.to_csv(\"Resources/Cleaned Data/cleaneddogecoin.csv\", index = False)"
   ]
  },
  {
   "cell_type": "code",
   "execution_count": 76,
   "metadata": {},
   "outputs": [],
   "source": [
    "# import csv\n",
    "raw_data2 = \"Resources/Raw Data/dogeusd.csv\"\n",
    "raw_data2_df = pd.read_csv(raw_data2)\n",
    "\n",
    "# drop rows with missing values\n",
    "raw_data2_df.dropna(how='any')\n",
    "raw_data2_df[raw_data2_df[\"Volume\"].isnull()]\n",
    "raw_data2_df = raw_data2_df.dropna(subset=[\"Volume\"])\n",
    "\n",
    "# Convert data types\n",
    "raw_data2_df[\"Date\"] = pd.to_datetime(raw_data2_df[\"Date\"])\n",
    "raw_data2_df[\"Open\"] = raw_data2_df[\"Open\"].astype(float)\n",
    "raw_data2_df[\"High\"] = raw_data2_df[\"High\"].astype(float)\n",
    "raw_data2_df[\"Low\"] = raw_data2_df[\"Low\"].astype(float)\n",
    "raw_data2_df[\"Close\"] = raw_data2_df[\"Close\"].astype(float)\n",
    "raw_data2_df[\"Adj Close\"] = raw_data2_df[\"Adj Close\"].astype(float)\n",
    "raw_data2_df[\"Volume\"] = raw_data2_df[\"Volume\"].apply(np.int64)\n",
    "\n",
    "# format numbers\n",
    "raw_data2_df[\"Open\"] = raw_data2_df[\"Open\"].map(\"{:,.6f}\".format)\n",
    "raw_data2_df[\"High\"] = raw_data2_df[\"High\"].map(\"{:,.6f}\".format)\n",
    "raw_data2_df[\"Low\"] = raw_data2_df[\"Low\"].map(\"{:,.6f}\".format)\n",
    "raw_data2_df[\"Close\"] = raw_data2_df[\"Close\"].map(\"{:,.6f}\".format)\n",
    "raw_data2_df[\"Adj Close\"] = raw_data2_df[\"Adj Close\"].map(\"{:,.6f}\".format)\n",
    "\n",
    "# sort by date\n",
    "raw_data2_df.sort_values(by=[\"Date\"], inplace=True, ascending=False)\n",
    "\n",
    "#export cleaned dataframe\n",
    "raw_data2_df.to_csv(\"Resources/Cleaned Data/cleaneddogeusd.csv\", index = False)"
   ]
  },
  {
   "cell_type": "code",
   "execution_count": null,
   "metadata": {},
   "outputs": [],
   "source": []
  }
 ],
 "metadata": {
  "kernelspec": {
   "display_name": "Python [conda env:PythonData] *",
   "language": "python",
   "name": "conda-env-PythonData-py"
  },
  "language_info": {
   "codemirror_mode": {
    "name": "ipython",
    "version": 3
   },
   "file_extension": ".py",
   "mimetype": "text/x-python",
   "name": "python",
   "nbconvert_exporter": "python",
   "pygments_lexer": "ipython3",
   "version": "3.6.10"
  }
 },
 "nbformat": 4,
 "nbformat_minor": 4
}
